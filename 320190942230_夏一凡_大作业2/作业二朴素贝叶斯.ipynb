{
 "cells": [
  {
   "cell_type": "markdown",
   "id": "c0f6dc74",
   "metadata": {},
   "source": [
    "# 朴素贝叶斯"
   ]
  },
  {
   "cell_type": "code",
   "execution_count": 2,
   "id": "8418fb0e",
   "metadata": {},
   "outputs": [],
   "source": [
    "import numpy as np\n",
    "import pandas as pd\n",
    "import matplotlib.pyplot as plt\n",
    "import seaborn as sns\n",
    "from scipy.stats import pearsonr\n",
    "from sklearn.model_selection import train_test_split \n",
    "from sklearn.linear_model import LogisticRegression\n",
    "from sklearn.neighbors import KNeighborsClassifier as KNN\n",
    "from sklearn.svm import SVC\n",
    "from sklearn.naive_bayes import GaussianNB\n",
    "from sklearn.ensemble import RandomForestClassifier as RFC\n",
    "from sklearn.model_selection import cross_val_score\n",
    "from sklearn.metrics import confusion_matrix as CM"
   ]
  },
  {
   "cell_type": "code",
   "execution_count": 3,
   "id": "c289459c",
   "metadata": {},
   "outputs": [
    {
     "data": {
      "text/html": [
       "<div>\n",
       "<style scoped>\n",
       "    .dataframe tbody tr th:only-of-type {\n",
       "        vertical-align: middle;\n",
       "    }\n",
       "\n",
       "    .dataframe tbody tr th {\n",
       "        vertical-align: top;\n",
       "    }\n",
       "\n",
       "    .dataframe thead th {\n",
       "        text-align: right;\n",
       "    }\n",
       "</style>\n",
       "<table border=\"1\" class=\"dataframe\">\n",
       "  <thead>\n",
       "    <tr style=\"text-align: right;\">\n",
       "      <th></th>\n",
       "      <th>5.1</th>\n",
       "      <th>3.5</th>\n",
       "      <th>1.4</th>\n",
       "      <th>0.2</th>\n",
       "      <th>Iris-setosa</th>\n",
       "    </tr>\n",
       "  </thead>\n",
       "  <tbody>\n",
       "    <tr>\n",
       "      <th>0</th>\n",
       "      <td>4.9</td>\n",
       "      <td>3.0</td>\n",
       "      <td>1.4</td>\n",
       "      <td>0.2</td>\n",
       "      <td>Iris-setosa</td>\n",
       "    </tr>\n",
       "    <tr>\n",
       "      <th>1</th>\n",
       "      <td>4.7</td>\n",
       "      <td>3.2</td>\n",
       "      <td>1.3</td>\n",
       "      <td>0.2</td>\n",
       "      <td>Iris-setosa</td>\n",
       "    </tr>\n",
       "    <tr>\n",
       "      <th>2</th>\n",
       "      <td>4.6</td>\n",
       "      <td>3.1</td>\n",
       "      <td>1.5</td>\n",
       "      <td>0.2</td>\n",
       "      <td>Iris-setosa</td>\n",
       "    </tr>\n",
       "    <tr>\n",
       "      <th>3</th>\n",
       "      <td>5.0</td>\n",
       "      <td>3.6</td>\n",
       "      <td>1.4</td>\n",
       "      <td>0.2</td>\n",
       "      <td>Iris-setosa</td>\n",
       "    </tr>\n",
       "    <tr>\n",
       "      <th>4</th>\n",
       "      <td>5.4</td>\n",
       "      <td>3.9</td>\n",
       "      <td>1.7</td>\n",
       "      <td>0.4</td>\n",
       "      <td>Iris-setosa</td>\n",
       "    </tr>\n",
       "  </tbody>\n",
       "</table>\n",
       "</div>"
      ],
      "text/plain": [
       "   5.1  3.5  1.4  0.2  Iris-setosa\n",
       "0  4.9  3.0  1.4  0.2  Iris-setosa\n",
       "1  4.7  3.2  1.3  0.2  Iris-setosa\n",
       "2  4.6  3.1  1.5  0.2  Iris-setosa\n",
       "3  5.0  3.6  1.4  0.2  Iris-setosa\n",
       "4  5.4  3.9  1.7  0.4  Iris-setosa"
      ]
     },
     "execution_count": 3,
     "metadata": {},
     "output_type": "execute_result"
    }
   ],
   "source": [
    "data = pd.read_csv('D2.data',sep=',')\n",
    "data.head() #viewing top 5 rows of dataset"
   ]
  },
  {
   "cell_type": "code",
   "execution_count": 4,
   "id": "12cd4acd",
   "metadata": {},
   "outputs": [
    {
     "data": {
      "text/plain": [
       "(149, 5)"
      ]
     },
     "execution_count": 4,
     "metadata": {},
     "output_type": "execute_result"
    }
   ],
   "source": [
    "data.shape"
   ]
  },
  {
   "cell_type": "code",
   "execution_count": 5,
   "id": "f7445831",
   "metadata": {
    "scrolled": true
   },
   "outputs": [
    {
     "data": {
      "text/plain": [
       "Index(['5.1', '3.5', '1.4', '0.2', 'Iris-setosa'], dtype='object')"
      ]
     },
     "execution_count": 5,
     "metadata": {},
     "output_type": "execute_result"
    }
   ],
   "source": [
    "data.columns"
   ]
  },
  {
   "cell_type": "code",
   "execution_count": 6,
   "id": "d88a10ff",
   "metadata": {},
   "outputs": [
    {
     "name": "stdout",
     "output_type": "stream",
     "text": [
      "<class 'pandas.core.frame.DataFrame'>\n",
      "RangeIndex: 149 entries, 0 to 148\n",
      "Data columns (total 5 columns):\n",
      " #   Column       Non-Null Count  Dtype  \n",
      "---  ------       --------------  -----  \n",
      " 0   5.1          149 non-null    float64\n",
      " 1   3.5          149 non-null    float64\n",
      " 2   1.4          149 non-null    float64\n",
      " 3   0.2          149 non-null    float64\n",
      " 4   Iris-setosa  149 non-null    object \n",
      "dtypes: float64(4), object(1)\n",
      "memory usage: 5.9+ KB\n"
     ]
    }
   ],
   "source": [
    "data.info()"
   ]
  },
  {
   "cell_type": "code",
   "execution_count": 7,
   "id": "2b6313f9",
   "metadata": {},
   "outputs": [
    {
     "data": {
      "text/plain": [
       "<seaborn.axisgrid.PairGrid at 0x1f4143a0a00>"
      ]
     },
     "execution_count": 7,
     "metadata": {},
     "output_type": "execute_result"
    },
    {
     "data": {
      "image/png": "[encoded data removed]",
      "text/plain": [
       "<Figure size 720x720 with 20 Axes>"
      ]
     },
     "metadata": {
      "needs_background": "light"
     },
     "output_type": "display_data"
    }
   ],
   "source": [
    "#Check correleation between the variables using Seaborn's pairplot. \n",
    "sns.pairplot(data)"
   ]
  },
  {
   "cell_type": "code",
   "execution_count": 8,
   "id": "6c21eb5f",
   "metadata": {},
   "outputs": [
    {
     "data": {
      "text/html": [
       "<div>\n",
       "<style scoped>\n",
       "    .dataframe tbody tr th:only-of-type {\n",
       "        vertical-align: middle;\n",
       "    }\n",
       "\n",
       "    .dataframe tbody tr th {\n",
       "        vertical-align: top;\n",
       "    }\n",
       "\n",
       "    .dataframe thead th {\n",
       "        text-align: right;\n",
       "    }\n",
       "</style>\n",
       "<table border=\"1\" class=\"dataframe\">\n",
       "  <thead>\n",
       "    <tr style=\"text-align: right;\">\n",
       "      <th></th>\n",
       "      <th>5.1</th>\n",
       "      <th>3.5</th>\n",
       "      <th>1.4</th>\n",
       "      <th>0.2</th>\n",
       "    </tr>\n",
       "  </thead>\n",
       "  <tbody>\n",
       "    <tr>\n",
       "      <th>count</th>\n",
       "      <td>149.000000</td>\n",
       "      <td>149.000000</td>\n",
       "      <td>149.000000</td>\n",
       "      <td>149.000000</td>\n",
       "    </tr>\n",
       "    <tr>\n",
       "      <th>mean</th>\n",
       "      <td>5.848322</td>\n",
       "      <td>3.051007</td>\n",
       "      <td>3.774497</td>\n",
       "      <td>1.205369</td>\n",
       "    </tr>\n",
       "    <tr>\n",
       "      <th>std</th>\n",
       "      <td>0.828594</td>\n",
       "      <td>0.433499</td>\n",
       "      <td>1.759651</td>\n",
       "      <td>0.761292</td>\n",
       "    </tr>\n",
       "    <tr>\n",
       "      <th>min</th>\n",
       "      <td>4.300000</td>\n",
       "      <td>2.000000</td>\n",
       "      <td>1.000000</td>\n",
       "      <td>0.100000</td>\n",
       "    </tr>\n",
       "    <tr>\n",
       "      <th>25%</th>\n",
       "      <td>5.100000</td>\n",
       "      <td>2.800000</td>\n",
       "      <td>1.600000</td>\n",
       "      <td>0.300000</td>\n",
       "    </tr>\n",
       "    <tr>\n",
       "      <th>50%</th>\n",
       "      <td>5.800000</td>\n",
       "      <td>3.000000</td>\n",
       "      <td>4.400000</td>\n",
       "      <td>1.300000</td>\n",
       "    </tr>\n",
       "    <tr>\n",
       "      <th>75%</th>\n",
       "      <td>6.400000</td>\n",
       "      <td>3.300000</td>\n",
       "      <td>5.100000</td>\n",
       "      <td>1.800000</td>\n",
       "    </tr>\n",
       "    <tr>\n",
       "      <th>max</th>\n",
       "      <td>7.900000</td>\n",
       "      <td>4.400000</td>\n",
       "      <td>6.900000</td>\n",
       "      <td>2.500000</td>\n",
       "    </tr>\n",
       "  </tbody>\n",
       "</table>\n",
       "</div>"
      ],
      "text/plain": [
       "              5.1         3.5         1.4         0.2\n",
       "count  149.000000  149.000000  149.000000  149.000000\n",
       "mean     5.848322    3.051007    3.774497    1.205369\n",
       "std      0.828594    0.433499    1.759651    0.761292\n",
       "min      4.300000    2.000000    1.000000    0.100000\n",
       "25%      5.100000    2.800000    1.600000    0.300000\n",
       "50%      5.800000    3.000000    4.400000    1.300000\n",
       "75%      6.400000    3.300000    5.100000    1.800000\n",
       "max      7.900000    4.400000    6.900000    2.500000"
      ]
     },
     "execution_count": 8,
     "metadata": {},
     "output_type": "execute_result"
    }
   ],
   "source": [
    "data.describe()"
   ]
  },
  {
   "cell_type": "code",
   "execution_count": 9,
   "id": "66076ece",
   "metadata": {},
   "outputs": [
    {
     "name": "stdout",
     "output_type": "stream",
     "text": [
      "['Iris-setosa' 'Iris-setosa' 'Iris-setosa' 'Iris-setosa' 'Iris-setosa'\n",
      " 'Iris-setosa' 'Iris-setosa' 'Iris-setosa' 'Iris-setosa' 'Iris-setosa'\n",
      " 'Iris-setosa' 'Iris-setosa' 'Iris-setosa' 'Iris-setosa' 'Iris-setosa'\n",
      " 'Iris-setosa' 'Iris-setosa' 'Iris-setosa' 'Iris-setosa' 'Iris-setosa'\n",
      " 'Iris-setosa' 'Iris-setosa' 'Iris-setosa' 'Iris-setosa' 'Iris-setosa'\n",
      " 'Iris-setosa' 'Iris-setosa' 'Iris-setosa' 'Iris-setosa' 'Iris-setosa'\n",
      " 'Iris-setosa' 'Iris-setosa' 'Iris-setosa' 'Iris-setosa' 'Iris-setosa'\n",
      " 'Iris-setosa' 'Iris-setosa' 'Iris-setosa' 'Iris-setosa' 'Iris-setosa'\n",
      " 'Iris-setosa' 'Iris-setosa' 'Iris-setosa' 'Iris-setosa' 'Iris-setosa'\n",
      " 'Iris-setosa' 'Iris-setosa' 'Iris-setosa' 'Iris-setosa' 'Iris-versicolor'\n",
      " 'Iris-versicolor' 'Iris-versicolor' 'Iris-versicolor' 'Iris-versicolor'\n",
      " 'Iris-versicolor' 'Iris-versicolor' 'Iris-versicolor' 'Iris-versicolor'\n",
      " 'Iris-versicolor' 'Iris-versicolor' 'Iris-versicolor' 'Iris-versicolor'\n",
      " 'Iris-versicolor' 'Iris-versicolor' 'Iris-versicolor' 'Iris-versicolor'\n",
      " 'Iris-versicolor' 'Iris-versicolor' 'Iris-versicolor' 'Iris-versicolor'\n",
      " 'Iris-versicolor' 'Iris-versicolor' 'Iris-versicolor' 'Iris-versicolor'\n",
      " 'Iris-versicolor' 'Iris-versicolor' 'Iris-versicolor' 'Iris-versicolor'\n",
      " 'Iris-versicolor' 'Iris-versicolor' 'Iris-versicolor' 'Iris-versicolor'\n",
      " 'Iris-versicolor' 'Iris-versicolor' 'Iris-versicolor' 'Iris-versicolor'\n",
      " 'Iris-versicolor' 'Iris-versicolor' 'Iris-versicolor' 'Iris-versicolor'\n",
      " 'Iris-versicolor' 'Iris-versicolor' 'Iris-versicolor' 'Iris-versicolor'\n",
      " 'Iris-versicolor' 'Iris-versicolor' 'Iris-versicolor' 'Iris-versicolor'\n",
      " 'Iris-versicolor' 'Iris-virginica' 'Iris-virginica' 'Iris-virginica'\n",
      " 'Iris-virginica' 'Iris-virginica' 'Iris-virginica' 'Iris-virginica'\n",
      " 'Iris-virginica' 'Iris-virginica' 'Iris-virginica' 'Iris-virginica'\n",
      " 'Iris-virginica' 'Iris-virginica' 'Iris-virginica' 'Iris-virginica'\n",
      " 'Iris-virginica' 'Iris-virginica' 'Iris-virginica' 'Iris-virginica'\n",
      " 'Iris-virginica' 'Iris-virginica' 'Iris-virginica' 'Iris-virginica'\n",
      " 'Iris-virginica' 'Iris-virginica' 'Iris-virginica' 'Iris-virginica'\n",
      " 'Iris-virginica' 'Iris-virginica' 'Iris-virginica' 'Iris-virginica'\n",
      " 'Iris-virginica' 'Iris-virginica' 'Iris-virginica' 'Iris-virginica'\n",
      " 'Iris-virginica' 'Iris-virginica' 'Iris-virginica' 'Iris-virginica'\n",
      " 'Iris-virginica' 'Iris-virginica' 'Iris-virginica' 'Iris-virginica'\n",
      " 'Iris-virginica' 'Iris-virginica' 'Iris-virginica' 'Iris-virginica'\n",
      " 'Iris-virginica' 'Iris-virginica' 'Iris-virginica']\n"
     ]
    }
   ],
   "source": [
    "#Train and Test split\n",
    "\n",
    "x=data.iloc[:,0:4].values\n",
    "y=data.iloc[:,4].values\n",
    "print(y)\n",
    "x_train,x_test,y_train,y_test=train_test_split(x,y,test_size=0.2,random_state=0)\n",
    "\n"
   ]
  },
  {
   "cell_type": "code",
   "execution_count": 10,
   "id": "e27d1444",
   "metadata": {},
   "outputs": [
    {
     "data": {
      "text/plain": [
       "Index(['5.1', '3.5', '1.4', '0.2', 'Iris-setosa'], dtype='object')"
      ]
     },
     "execution_count": 10,
     "metadata": {},
     "output_type": "execute_result"
    }
   ],
   "source": [
    "#view final data\n",
    "data.columns"
   ]
  },
  {
   "cell_type": "code",
   "execution_count": 11,
   "id": "b81b7899",
   "metadata": {},
   "outputs": [],
   "source": [
    "from sklearn.preprocessing import StandardScaler\n",
    "sc = StandardScaler()\n",
    "x = sc.fit_transform(x)"
   ]
  },
  {
   "cell_type": "code",
   "execution_count": 12,
   "id": "03a31aa2",
   "metadata": {},
   "outputs": [
    {
     "name": "stdout",
     "output_type": "stream",
     "text": [
      "[[-1.1483555  -0.11805969 -1.35396443 -1.32506301]\n",
      " [-1.3905423   0.34485856 -1.41098555 -1.32506301]\n",
      " [-1.51163569  0.11339944 -1.29694332 -1.32506301]\n",
      " [-1.02726211  1.27069504 -1.35396443 -1.32506301]\n",
      " [-0.54288852  1.9650724  -1.18290109 -1.0614657 ]\n",
      " [-1.51163569  0.8077768  -1.35396443 -1.19326436]\n",
      " [-1.02726211  0.8077768  -1.29694332 -1.32506301]\n",
      " [-1.75382249 -0.34951881 -1.35396443 -1.32506301]\n",
      " [-1.1483555   0.11339944 -1.29694332 -1.45686167]\n",
      " [-0.54288852  1.50215416 -1.29694332 -1.32506301]\n",
      " [-1.2694489   0.8077768  -1.23992221 -1.32506301]\n",
      " [-1.2694489  -0.11805969 -1.35396443 -1.45686167]\n",
      " [-1.87491588 -0.11805969 -1.52502777 -1.45686167]\n",
      " [-0.05851493  2.19653152 -1.46800666 -1.32506301]\n",
      " [-0.17960833  3.122368   -1.29694332 -1.0614657 ]\n",
      " [-0.54288852  1.9650724  -1.41098555 -1.0614657 ]\n",
      " [-0.90616871  1.03923592 -1.35396443 -1.19326436]\n",
      " [-0.17960833  1.73361328 -1.18290109 -1.19326436]\n",
      " [-0.90616871  1.73361328 -1.29694332 -1.19326436]\n",
      " [-0.54288852  0.8077768  -1.18290109 -1.32506301]\n",
      " [-0.90616871  1.50215416 -1.29694332 -1.0614657 ]\n",
      " [-1.51163569  1.27069504 -1.58204889 -1.32506301]\n",
      " [-0.90616871  0.57631768 -1.18290109 -0.92966704]\n",
      " [-1.2694489   0.8077768  -1.06885886 -1.32506301]\n",
      " [-1.02726211 -0.11805969 -1.23992221 -1.32506301]\n",
      " [-1.02726211  0.8077768  -1.23992221 -1.0614657 ]\n",
      " [-0.78507531  1.03923592 -1.29694332 -1.32506301]\n",
      " [-0.78507531  0.8077768  -1.35396443 -1.32506301]\n",
      " [-1.3905423   0.34485856 -1.23992221 -1.32506301]\n",
      " [-1.2694489   0.11339944 -1.23992221 -1.32506301]\n",
      " [-0.54288852  0.8077768  -1.29694332 -1.0614657 ]\n",
      " [-0.78507531  2.42799064 -1.29694332 -1.45686167]\n",
      " [-0.42179512  2.65944976 -1.35396443 -1.32506301]\n",
      " [-1.1483555   0.11339944 -1.29694332 -1.45686167]\n",
      " [-1.02726211  0.34485856 -1.46800666 -1.32506301]\n",
      " [-0.42179512  1.03923592 -1.41098555 -1.32506301]\n",
      " [-1.1483555   0.11339944 -1.29694332 -1.45686167]\n",
      " [-1.75382249 -0.11805969 -1.41098555 -1.32506301]\n",
      " [-0.90616871  0.8077768  -1.29694332 -1.32506301]\n",
      " [-1.02726211  1.03923592 -1.41098555 -1.19326436]\n",
      " [-1.63272909 -1.73827353 -1.41098555 -1.19326436]\n",
      " [-1.75382249  0.34485856 -1.41098555 -1.32506301]\n",
      " [-1.02726211  1.03923592 -1.23992221 -0.79786838]\n",
      " [-0.90616871  1.73361328 -1.06885886 -1.0614657 ]\n",
      " [-1.2694489  -0.11805969 -1.35396443 -1.19326436]\n",
      " [-0.90616871  1.73361328 -1.23992221 -1.32506301]\n",
      " [-1.51163569  0.34485856 -1.35396443 -1.32506301]\n",
      " [-0.66398191  1.50215416 -1.29694332 -1.32506301]\n",
      " [-1.02726211  0.57631768 -1.35396443 -1.32506301]\n",
      " [ 1.39460583  0.34485856  0.52773232  0.25652088]\n",
      " [ 0.66804545  0.34485856  0.41369009  0.38831953]\n",
      " [ 1.27351244  0.11339944  0.64177455  0.38831953]\n",
      " [-0.42179512 -1.73827353  0.12858453  0.12472222]\n",
      " [ 0.78913885 -0.58097793  0.47071121  0.38831953]\n",
      " [-0.17960833 -0.58097793  0.41369009  0.12472222]\n",
      " [ 0.54695205  0.57631768  0.52773232  0.52011819]\n",
      " [-1.1483555  -1.50681441 -0.27056327 -0.27067375]\n",
      " [ 0.91023225 -0.34951881  0.47071121  0.12472222]\n",
      " [-0.78507531 -0.81243705  0.07156341  0.25652088]\n",
      " [-1.02726211 -2.43265089 -0.15652104 -0.27067375]\n",
      " [ 0.06257847 -0.11805969  0.24262675  0.38831953]\n",
      " [ 0.18367186 -1.96973265  0.12858453 -0.27067375]\n",
      " [ 0.30476526 -0.34951881  0.52773232  0.25652088]\n",
      " [-0.30070172 -0.34951881 -0.09949993  0.12472222]\n",
      " [ 1.03132564  0.11339944  0.35666898  0.25652088]\n",
      " [-0.30070172 -0.11805969  0.41369009  0.38831953]\n",
      " [-0.05851493 -0.81243705  0.18560564 -0.27067375]\n",
      " [ 0.42585866 -1.96973265  0.41369009  0.38831953]\n",
      " [-0.30070172 -1.27535529  0.07156341 -0.1388751 ]\n",
      " [ 0.06257847  0.34485856  0.58475344  0.78371551]\n",
      " [ 0.30476526 -0.58097793  0.12858453  0.12472222]\n",
      " [ 0.54695205 -1.27535529  0.64177455  0.38831953]\n",
      " [ 0.30476526 -0.58097793  0.52773232 -0.00707644]\n",
      " [ 0.66804545 -0.34951881  0.29964787  0.12472222]\n",
      " [ 0.91023225 -0.11805969  0.35666898  0.25652088]\n",
      " [ 1.15241904 -0.58097793  0.58475344  0.25652088]\n",
      " [ 1.03132564 -0.11805969  0.69879566  0.65191685]\n",
      " [ 0.18367186 -0.34951881  0.41369009  0.38831953]\n",
      " [-0.17960833 -1.04389617 -0.15652104 -0.27067375]\n",
      " [-0.42179512 -1.50681441  0.0145423  -0.1388751 ]\n",
      " [-0.42179512 -1.50681441 -0.04247882 -0.27067375]\n",
      " [-0.05851493 -0.81243705  0.07156341 -0.00707644]\n",
      " [ 0.18367186 -0.81243705  0.75581678  0.52011819]\n",
      " [-0.54288852 -0.11805969  0.41369009  0.38831953]\n",
      " [ 0.18367186  0.8077768   0.41369009  0.52011819]\n",
      " [ 1.03132564  0.11339944  0.52773232  0.38831953]\n",
      " [ 0.54695205 -1.73827353  0.35666898  0.12472222]\n",
      " [-0.30070172 -0.11805969  0.18560564  0.12472222]\n",
      " [-0.42179512 -1.27535529  0.12858453  0.12472222]\n",
      " [-0.42179512 -1.04389617  0.35666898 -0.00707644]\n",
      " [ 0.30476526 -0.11805969  0.47071121  0.25652088]\n",
      " [-0.05851493 -1.04389617  0.12858453 -0.00707644]\n",
      " [-1.02726211 -1.73827353 -0.27056327 -0.27067375]\n",
      " [-0.30070172 -0.81243705  0.24262675  0.12472222]\n",
      " [-0.17960833 -0.11805969  0.24262675 -0.00707644]\n",
      " [-0.17960833 -0.34951881  0.24262675  0.12472222]\n",
      " [ 0.42585866 -0.34951881  0.29964787  0.12472222]\n",
      " [-0.90616871 -1.27535529 -0.44162661 -0.1388751 ]\n",
      " [-0.17960833 -0.58097793  0.18560564  0.12472222]\n",
      " [ 0.54695205  0.57631768  1.2690068   1.70630611]\n",
      " [-0.05851493 -0.81243705  0.75581678  0.91551417]\n",
      " [ 1.51569923 -0.11805969  1.21198569  1.17911148]\n",
      " [ 0.54695205 -0.34951881  1.04092235  0.78371551]\n",
      " [ 0.78913885 -0.11805969  1.15496457  1.31091014]\n",
      " [ 2.12116622 -0.11805969  1.61113348  1.17911148]\n",
      " [-1.1483555  -1.27535529  0.41369009  0.65191685]\n",
      " [ 1.75788602 -0.34951881  1.44007014  0.78371551]\n",
      " [ 1.03132564 -1.27535529  1.15496457  0.78371551]\n",
      " [ 1.63679263  1.27069504  1.32602791  1.70630611]\n",
      " [ 0.78913885  0.34485856  0.75581678  1.04731282]\n",
      " [ 0.66804545 -0.81243705  0.869859    0.91551417]\n",
      " [ 1.15241904 -0.11805969  0.98390123  1.17911148]\n",
      " [-0.17960833 -1.27535529  0.69879566  1.04731282]\n",
      " [-0.05851493 -0.58097793  0.75581678  1.57450745]\n",
      " [ 0.66804545  0.34485856  0.869859    1.4427088 ]\n",
      " [ 0.78913885 -0.11805969  0.98390123  0.78371551]\n",
      " [ 2.24225961  1.73361328  1.6681546   1.31091014]\n",
      " [ 2.24225961 -1.04389617  1.78219682  1.4427088 ]\n",
      " [ 0.18367186 -1.96973265  0.69879566  0.38831953]\n",
      " [ 1.27351244  0.34485856  1.09794346  1.4427088 ]\n",
      " [-0.30070172 -0.58097793  0.64177455  1.04731282]\n",
      " [ 2.24225961 -0.58097793  1.6681546   1.04731282]\n",
      " [ 0.54695205 -0.81243705  0.64177455  0.78371551]\n",
      " [ 1.03132564  0.57631768  1.09794346  1.17911148]\n",
      " [ 1.63679263  0.34485856  1.2690068   0.78371551]\n",
      " [ 0.42585866 -0.58097793  0.58475344  0.78371551]\n",
      " [ 0.30476526 -0.11805969  0.64177455  0.78371551]\n",
      " [ 0.66804545 -0.58097793  1.04092235  1.17911148]\n",
      " [ 1.63679263 -0.11805969  1.15496457  0.52011819]\n",
      " [ 1.87897942 -0.58097793  1.32602791  0.91551417]\n",
      " [ 2.48444641  1.73361328  1.49709126  1.04731282]\n",
      " [ 0.66804545 -0.58097793  1.04092235  1.31091014]\n",
      " [ 0.54695205 -0.58097793  0.75581678  0.38831953]\n",
      " [ 0.30476526 -1.04389617  1.04092235  0.25652088]\n",
      " [ 2.24225961 -0.11805969  1.32602791  1.4427088 ]\n",
      " [ 0.54695205  0.8077768   1.04092235  1.57450745]\n",
      " [ 0.66804545  0.11339944  0.98390123  0.78371551]\n",
      " [ 0.18367186 -0.11805969  0.58475344  0.78371551]\n",
      " [ 1.27351244  0.11339944  0.92688012  1.17911148]\n",
      " [ 1.03132564  0.11339944  1.04092235  1.57450745]\n",
      " [ 1.27351244  0.11339944  0.75581678  1.4427088 ]\n",
      " [-0.05851493 -0.81243705  0.75581678  0.91551417]\n",
      " [ 1.15241904  0.34485856  1.21198569  1.4427088 ]\n",
      " [ 1.03132564  0.57631768  1.09794346  1.70630611]\n",
      " [ 1.03132564 -0.11805969  0.81283789  1.4427088 ]\n",
      " [ 0.54695205 -1.27535529  0.69879566  0.91551417]\n",
      " [ 0.78913885 -0.11805969  0.81283789  1.04731282]\n",
      " [ 0.42585866  0.8077768   0.92688012  1.4427088 ]\n",
      " [ 0.06257847 -0.11805969  0.75581678  0.78371551]]\n"
     ]
    }
   ],
   "source": [
    "print(x)"
   ]
  },
  {
   "cell_type": "code",
   "execution_count": 13,
   "id": "f8c27c69",
   "metadata": {},
   "outputs": [],
   "source": [
    "from sklearn.decomposition import PCA\n",
    "pca = PCA()\n",
    "x_pca = pca.fit_transform(x)"
   ]
  },
  {
   "cell_type": "code",
   "execution_count": 14,
   "id": "0b3f059b",
   "metadata": {},
   "outputs": [
    {
     "data": {
      "image/png": "[encoded data removed]",
      "text/plain": [
       "<Figure size 720x720 with 1 Axes>"
      ]
     },
     "metadata": {
      "needs_background": "light"
     },
     "output_type": "display_data"
    }
   ],
   "source": [
    "#plot the graph to find the principal components\n",
    "plt.figure(figsize=(10,10))\n",
    "plt.plot(np.cumsum(pca.explained_variance_ratio_), 'ro-')\n",
    "plt.grid()"
   ]
  },
  {
   "cell_type": "code",
   "execution_count": 15,
   "id": "9f659437",
   "metadata": {},
   "outputs": [
    {
     "name": "stdout",
     "output_type": "stream",
     "text": [
      "(119, 4)\n",
      "(119,)\n",
      "(30, 4)\n",
      "(30,)\n"
     ]
    }
   ],
   "source": [
    "print(x_train.shape)\n",
    "print(y_train.shape)\n",
    "print(x_test.shape)\n",
    "print(y_test.shape)"
   ]
  },
  {
   "cell_type": "code",
   "execution_count": 16,
   "id": "59e94b7c",
   "metadata": {},
   "outputs": [],
   "source": [
    "from sklearn.tree import DecisionTreeClassifier\n",
    "dt = DecisionTreeClassifier()\n",
    "dt.fit(x_train,y_train)\n",
    "dt_predict = dt.predict(x_test)"
   ]
  },
  {
   "cell_type": "code",
   "execution_count": 17,
   "id": "4c2ae09e",
   "metadata": {},
   "outputs": [
    {
     "name": "stdout",
     "output_type": "stream",
     "text": [
      "[[12  0  0]\n",
      " [ 0 10  0]\n",
      " [ 0  3  5]]\n",
      "90.0\n"
     ]
    }
   ],
   "source": [
    "#print confusion matrix and accuracy score\n",
    "dt_conf_matrix = confusion_matrix(y_test, dt_predict)\n",
    "dt_acc_score = accuracy_score(y_test, dt_predict)\n",
    "print(dt_conf_matrix)\n",
    "print(dt_acc_score*100)"
   ]
  },
  {
   "cell_type": "code",
   "execution_count": 18,
   "id": "5b324141",
   "metadata": {},
   "outputs": [
    {
     "name": "stdout",
     "output_type": "stream",
     "text": [
      "['Iris-versicolor' 'Iris-virginica' 'Iris-versicolor' 'Iris-versicolor'\n",
      " 'Iris-setosa' 'Iris-virginica' 'Iris-virginica' 'Iris-versicolor'\n",
      " 'Iris-versicolor' 'Iris-versicolor' 'Iris-setosa' 'Iris-setosa'\n",
      " 'Iris-versicolor' 'Iris-setosa' 'Iris-setosa' 'Iris-versicolor'\n",
      " 'Iris-virginica' 'Iris-versicolor' 'Iris-setosa' 'Iris-setosa'\n",
      " 'Iris-setosa' 'Iris-setosa' 'Iris-versicolor' 'Iris-setosa'\n",
      " 'Iris-versicolor' 'Iris-versicolor' 'Iris-versicolor' 'Iris-setosa'\n",
      " 'Iris-setosa' 'Iris-virginica']\n"
     ]
    }
   ],
   "source": [
    "print(dt_predict)"
   ]
  },
  {
   "cell_type": "code",
   "execution_count": 19,
   "id": "579ca012",
   "metadata": {},
   "outputs": [],
   "source": [
    "from sklearn.naive_bayes import GaussianNB\n",
    "nb = GaussianNB()\n",
    "nb.fit(x_train,y_train)\n",
    "nb_predict=nb.predict(x_test)"
   ]
  },
  {
   "cell_type": "code",
   "execution_count": 20,
   "id": "a98d1e07",
   "metadata": {},
   "outputs": [
    {
     "name": "stdout",
     "output_type": "stream",
     "text": [
      "[[12  0  0]\n",
      " [ 0 10  0]\n",
      " [ 0  3  5]]\n",
      "90.0\n"
     ]
    }
   ],
   "source": [
    "#print confusion matrix and accuracy score\n",
    "nb_conf_matrix = confusion_matrix(y_test, nb_predict)\n",
    "nb_acc_score = accuracy_score(y_test, nb_predict)\n",
    "print(nb_conf_matrix)\n",
    "print(nb_acc_score*100)"
   ]
  },
  {
   "cell_type": "code",
   "execution_count": 30,
   "id": "383845a0",
   "metadata": {
    "scrolled": false
   },
   "outputs": [
    {
     "name": "stdout",
     "output_type": "stream",
     "text": [
      "['Iris-virginica' 'Iris-virginica' 'Iris-versicolor' 'Iris-versicolor'\n",
      " 'Iris-setosa' 'Iris-virginica' 'Iris-virginica' 'Iris-versicolor'\n",
      " 'Iris-virginica' 'Iris-versicolor' 'Iris-setosa' 'Iris-setosa'\n",
      " 'Iris-versicolor' 'Iris-setosa' 'Iris-setosa' 'Iris-virginica'\n",
      " 'Iris-virginica' 'Iris-versicolor' 'Iris-setosa' 'Iris-setosa'\n",
      " 'Iris-setosa' 'Iris-setosa' 'Iris-versicolor' 'Iris-setosa'\n",
      " 'Iris-versicolor' 'Iris-versicolor' 'Iris-versicolor' 'Iris-setosa'\n",
      " 'Iris-setosa' 'Iris-virginica']\n",
      "朴素贝叶斯混淆矩阵：\n",
      " [[12  0  0]\n",
      " [ 0 10  0]\n",
      " [ 0  3  5]]\n"
     ]
    },
    {
     "data": {
      "image/png": "[encoded data removed]",
      "text/plain": [
       "<Figure size 432x288 with 2 Axes>"
      ]
     },
     "metadata": {
      "needs_background": "light"
     },
     "output_type": "display_data"
    },
    {
     "name": "stdout",
     "output_type": "stream",
     "text": [
      "micro: 0.9\n",
      "macro: 0.875\n",
      "Predict               Iris-setosa           Iris-versicolor       Iris-virginica        \n",
      "Actual\n",
      "Iris-setosa           12                    0                     0                     \n",
      "\n",
      "Iris-versicolor       0                     10                    0                     \n",
      "\n",
      "Iris-virginica        0                     3                     5                     \n",
      "\n",
      "\n",
      "\n",
      "\n",
      "\n",
      "Overall Statistics : \n",
      "\n",
      "95% CI                                                            (0.79265,1.00735)\n",
      "ACC Macro                                                         0.93333\n",
      "AUNP                                                              0.925\n",
      "AUNU                                                              0.9125\n",
      "Bennett S                                                         0.85\n",
      "CBA                                                               0.79808\n",
      "CSI                                                               0.79808\n",
      "Chi-Squared                                                       44.42308\n",
      "Chi-Squared DF                                                    4\n",
      "Conditional Entropy                                               0.25452\n",
      "Cramer V                                                          0.86046\n",
      "Cross Entropy                                                     1.62024\n",
      "F1 Macro                                                          0.8796\n",
      "F1 Micro                                                          0.9\n",
      "Gwet AC1                                                          0.85228\n",
      "Hamming Loss                                                      0.1\n",
      "Joint Entropy                                                     1.82011\n",
      "KL Divergence                                                     0.05465\n",
      "Kappa                                                             0.84642\n",
      "Kappa 95% CI                                                      (0.68154,1.01129)\n",
      "Kappa No Prevalence                                               0.8\n",
      "Kappa Standard Error                                              0.08412\n",
      "Kappa Unbiased                                                    0.84523\n",
      "Lambda A                                                          0.83333\n",
      "Lambda B                                                          0.82353\n",
      "Mutual Information                                                1.22788\n",
      "NIR                                                               0.4\n",
      "Overall ACC                                                       0.9\n",
      "Overall CEN                                                       0.12635\n",
      "Overall J                                                         (2.39423,0.79808)\n",
      "Overall MCC                                                       0.85991\n",
      "Overall MCEN                                                      0.16048\n",
      "Overall RACC                                                      0.34889\n",
      "Overall RACCU                                                     0.35389\n",
      "P-Value                                                           0.0\n",
      "PPV Macro                                                         0.92308\n",
      "PPV Micro                                                         0.9\n",
      "Pearson C                                                         0.77259\n",
      "Phi-Squared                                                       1.48077\n",
      "RCI                                                               0.78429\n",
      "RR                                                                10.0\n",
      "Reference Entropy                                                 1.5656\n",
      "Response Entropy                                                  1.48239\n",
      "SOA1(Landis & Koch)                                               Almost Perfect\n",
      "SOA2(Fleiss)                                                      Excellent\n",
      "SOA3(Altman)                                                      Very Good\n",
      "SOA4(Cicchetti)                                                   Excellent\n",
      "SOA5(Cramer)                                                      Very Strong\n",
      "SOA6(Matthews)                                                    Strong\n",
      "Scott PI                                                          0.84523\n",
      "Standard Error                                                    0.05477\n",
      "TPR Macro                                                         0.875\n",
      "TPR Micro                                                         0.9\n",
      "Zero-one Loss                                                     3\n",
      "\n",
      "Class Statistics :\n",
      "\n",
      "Classes                                                           Iris-setosa         Iris-versicolor     Iris-virginica      \n",
      "ACC(Accuracy)                                                     1.0                 0.9                 0.9                 \n",
      "AGF(Adjusted F-score)                                             1.0                 0.95459             0.78052             \n",
      "AGM(Adjusted geometric mean)                                      1.0                 0.89317             0.87917             \n",
      "AM(Difference between automatic and manual classification)        0                   3                   -3                  \n",
      "AUC(Area under the ROC curve)                                     1.0                 0.925               0.8125              \n",
      "AUCI(AUC value interpretation)                                    Excellent           Excellent           Very Good           \n",
      "AUPR(Area under the PR curve)                                     1.0                 0.88462             0.8125              \n",
      "BCD(Bray-Curtis dissimilarity)                                    0.0                 0.05                0.05                \n",
      "BM(Informedness or bookmaker informedness)                        1.0                 0.85                0.625               \n",
      "CEN(Confusion entropy)                                            0                   0.19165             0.24409             \n",
      "DOR(Diagnostic odds ratio)                                        None                None                None                \n",
      "DP(Discriminant power)                                            None                None                None                \n",
      "DPI(Discriminant power interpretation)                            None                None                None                \n",
      "ERR(Error rate)                                                   0.0                 0.1                 0.1                 \n",
      "F0.5(F0.5 score)                                                  1.0                 0.80645             0.89286             \n",
      "F1(F1 score - harmonic mean of precision and sensitivity)         1.0                 0.86957             0.76923             \n",
      "F2(F2 score)                                                      1.0                 0.9434              0.67568             \n",
      "FDR(False discovery rate)                                         0.0                 0.23077             0.0                 \n",
      "FN(False negative/miss/type 2 error)                              0                   0                   3                   \n",
      "FNR(Miss rate or false negative rate)                             0.0                 0.0                 0.375               \n",
      "FOR(False omission rate)                                          0.0                 0.0                 0.12                \n",
      "FP(False positive/type 1 error/false alarm)                       0                   3                   0                   \n",
      "FPR(Fall-out or false positive rate)                              0.0                 0.15                0.0                 \n",
      "G(G-measure geometric mean of precision and sensitivity)          1.0                 0.87706             0.79057             \n",
      "GI(Gini index)                                                    1.0                 0.85                0.625               \n",
      "GM(G-mean geometric mean of specificity and sensitivity)          1.0                 0.92195             0.79057             \n",
      "IBA(Index of balanced accuracy)                                   1.0                 0.9775              0.39062             \n",
      "ICSI(Individual classification success index)                     1.0                 0.76923             0.625               \n",
      "IS(Information score)                                             1.32193             1.20645             1.90689             \n",
      "J(Jaccard index)                                                  1.0                 0.76923             0.625               \n",
      "LS(Lift score)                                                    2.5                 2.30769             3.75                \n",
      "MCC(Matthews correlation coefficient)                             1.0                 0.80861             0.74162             \n",
      "MCCI(Matthews correlation coefficient interpretation)             Very Strong         Strong              Strong              \n",
      "MCEN(Modified confusion entropy)                                  0                   0.24409             0.26532             \n",
      "MK(Markedness)                                                    1.0                 0.76923             0.88                \n",
      "N(Condition negative)                                             18                  20                  22                  \n",
      "NLR(Negative likelihood ratio)                                    0.0                 0.0                 0.375               \n",
      "NLRI(Negative likelihood ratio interpretation)                    Good                Good                Poor                \n",
      "NPV(Negative predictive value)                                    1.0                 1.0                 0.88                \n",
      "OC(Overlap coefficient)                                           1.0                 1.0                 1.0                 \n",
      "OOC(Otsuka-Ochiai coefficient)                                    1.0                 0.87706             0.79057             \n",
      "OP(Optimized precision)                                           1.0                 0.81892             0.66923             \n",
      "P(Condition positive or support)                                  12                  10                  8                   \n",
      "PLR(Positive likelihood ratio)                                    None                6.66667             None                \n",
      "PLRI(Positive likelihood ratio interpretation)                    None                Fair                None                \n",
      "POP(Population)                                                   30                  30                  30                  \n",
      "PPV(Precision or positive predictive value)                       1.0                 0.76923             1.0                 \n",
      "PRE(Prevalence)                                                   0.4                 0.33333             0.26667             \n",
      "Q(Yule Q - coefficient of colligation)                            None                None                None                \n",
      "RACC(Random accuracy)                                             0.16                0.14444             0.04444             \n",
      "RACCU(Random accuracy unbiased)                                   0.16                0.14694             0.04694             \n",
      "TN(True negative/correct rejection)                               18                  17                  22                  \n",
      "TNR(Specificity or true negative rate)                            1.0                 0.85                1.0                 \n",
      "TON(Test outcome negative)                                        18                  17                  25                  \n",
      "TOP(Test outcome positive)                                        12                  13                  5                   \n",
      "TP(True positive/hit)                                             12                  10                  5                   \n",
      "TPR(Sensitivity, recall, hit rate, or true positive rate)         1.0                 1.0                 0.625               \n",
      "Y(Youden index)                                                   1.0                 0.85                0.625               \n",
      "dInd(Distance index)                                              0.0                 0.15                0.375               \n",
      "sInd(Similarity index)                                            1.0                 0.89393             0.73483             \n",
      "\n"
     ]
    }
   ],
   "source": [
    "import math\n",
    "from pycm import *\n",
    "\n",
    "\n",
    "class NaiveBayes():\n",
    "    \"\"\"The Gaussian Naive Bayes classifier. \"\"\"\n",
    "    def fit(self, X, y):\n",
    "        self.X, self.y = X, y\n",
    "        self.classes = np.unique(y)\n",
    "        self.parameters = []\n",
    "        # Calculate the mean and variance of each feature for each class\n",
    "        for i, c in enumerate(self.classes):\n",
    "            # Only select the rows where the label equals the given class\n",
    "            X_where_c = X[np.where(y == c)]\n",
    "            self.parameters.append([])\n",
    "            # Add the mean and variance for each feature (column)\n",
    "            for col in X_where_c.T:\n",
    "                parameters = {\"mean\": col.mean(), \"var\": col.var()}\n",
    "                self.parameters[i].append(parameters)\n",
    "\n",
    "    def _calculate_likelihood(self, mean, var, x):\n",
    "        \"\"\" Gaussian likelihood of the data x given mean and var \"\"\"\n",
    "        eps = 1e-4 # Added in denominator to prevent division by zero\n",
    "        coeff = 1.0 / math.sqrt(2.0 * math.pi * var + eps)\n",
    "        exponent = math.exp(-(math.pow(x - mean, 2) / (2 * var + eps)))\n",
    "        return coeff * exponent\n",
    "\n",
    "    def _calculate_prior(self, c):\n",
    "        \"\"\" Calculate the prior of class c\n",
    "        (samples where class == c / total number of samples)\"\"\"\n",
    "        frequency = np.mean(self.y == c)\n",
    "        return frequency\n",
    "\n",
    "    def _classify(self, sample):\n",
    "        \"\"\" Classification using Bayes Rule P(Y|X) = P(X|Y)*P(Y)/P(X),\n",
    "            or Posterior = Likelihood * Prior / Scaling Factor\n",
    "        P(Y|X) - The posterior is the probability that sample x is of class y given the\n",
    "                 feature values of x being distributed according to distribution of y and the prior.\n",
    "        P(X|Y) - Likelihood of data X given class distribution Y.\n",
    "                 Gaussian distribution (given by _calculate_likelihood)\n",
    "        P(Y)   - Prior (given by _calculate_prior)\n",
    "        P(X)   - Scales the posterior to make it a proper probability distribution.\n",
    "                 This term is ignored in this implementation since it doesn't affect\n",
    "                 which class distribution the sample is most likely to belong to.\n",
    "        Classifies the sample as the class that results in the largest P(Y|X) (posterior)\n",
    "        \"\"\"\n",
    "        posteriors = []\n",
    "        # Go through list of classes\n",
    "        for i, c in enumerate(self.classes):\n",
    "            # Initialize posterior as prior\n",
    "            posterior = self._calculate_prior(c)\n",
    "            # Naive assumption (independence):\n",
    "            # P(x1,x2,x3|Y) = P(x1|Y)*P(x2|Y)*P(x3|Y)\n",
    "            # Posterior is product of prior and likelihoods (ignoring scaling factor)\n",
    "            for feature_value, params in zip(sample, self.parameters[i]):\n",
    "                # Likelihood of feature value given distribution of feature values given y\n",
    "                likelihood = self._calculate_likelihood(params[\"mean\"], params[\"var\"], feature_value)\n",
    "                posterior *= likelihood\n",
    "            posteriors.append(posterior)\n",
    "        # Return the class with the largest posterior probability\n",
    "        return self.classes[np.argmax(posteriors)]\n",
    "\n",
    "    def predict(self, X):\n",
    "        \"\"\" Predict the class labels of the samples in X \"\"\"\n",
    "        y_pred = [self._classify(sample) for sample in X]\n",
    "        return y_pred\n",
    "\n",
    "from sklearn.metrics import accuracy_score,recall_score,f1_score,precision_score,confusion_matrix\n",
    "import matplotlib.pyplot as plt\n",
    "    \n",
    "    \n",
    "    \n",
    "# 定义绘制混淆矩阵\n",
    "def plot_confusion_matrix(cm, labels_name, title):\n",
    "    cm = cm.astype('float') / cm.sum(axis=1)[:, np.newaxis]    # 归一化\n",
    "    plt.imshow(cm, interpolation='nearest',cmap=\"Blues\")    # 在特定的窗口上显示图像\n",
    "    plt.title(title,fontsize = 15)    # 图像标题\n",
    "    plt.colorbar()\n",
    "    num_local = np.array(range(len(labels_name)))    \n",
    "    plt.xticks(num_local, labels_name, rotation=90)    # 将标签印在x轴坐标上\n",
    "    plt.yticks(num_local, labels_name)    # 将标签印在y轴坐标上\n",
    "    plt.ylabel('True label',fontsize = 15) \n",
    "    plt.tick_params(labelsize=15)\n",
    "    plt.xlabel('Predicted label',fontsize = 15)\n",
    "    \n",
    "    \n",
    "def main():\n",
    "    clf = NaiveBayes()\n",
    "    clf.fit(x_train, y_train)\n",
    "    y_pred = clf.predict(x_test)\n",
    "    print(y_test)\n",
    "\n",
    "    plt.rcParams['font.sans-serif'] = ['SimHei']\n",
    "    c_matrix_bys = confusion_matrix(y_test, y_pred)\n",
    "    print(\"朴素贝叶斯混淆矩阵：\\n\",c_matrix_bys)\n",
    "    plot_confusion_matrix(c_matrix_bys, ['presence ','classify'], \"IRIS朴素贝叶斯混淆矩阵\")\n",
    "    plt.show()\n",
    "    from sklearn.metrics import recall_score\n",
    "    micro = recall_score(y_test,y_pred,average = 'micro')\n",
    "    print(\"micro:\",micro)\n",
    "    from sklearn.metrics import recall_score\n",
    "    macro = recall_score(y_test,y_pred,average = 'macro')\n",
    "    print(\"macro:\",macro)\n",
    "    \n",
    "\n",
    "    cm = ConfusionMatrix(actual_vector=y_test, predict_vector=y_pred)\n",
    "    print(cm)\n",
    "\n",
    "if __name__ == \"__main__\":\n",
    "    main()\n",
    "    "
   ]
  },
  {
   "cell_type": "code",
   "execution_count": null,
   "id": "0571d843",
   "metadata": {},
   "outputs": [],
   "source": [
    "data = [acc, rec, pre, f1]\n",
    "labels = ['Accary','Recall', 'Precision', 'f1-score']\n",
    "\n",
    "plt.bar(range(len(data)), data)\n",
    "plt.show()\n"
   ]
  },
  {
   "cell_type": "code",
   "execution_count": null,
   "id": "02db1217",
   "metadata": {},
   "outputs": [],
   "source": [
    "data = [acc, rec, pre, f1]\n",
    "labels = ['Accary','Recall', 'Precision', 'f1-score']\n",
    "\n",
    "plt.plot(labels, data)\n",
    "plt.show()"
   ]
  },
  {
   "cell_type": "code",
   "execution_count": 35,
   "id": "1ca62bf0",
   "metadata": {},
   "outputs": [
    {
     "data": {
      "text/plain": [
       "<matplotlib.legend.Legend at 0x1f41b2e6c40>"
      ]
     },
     "execution_count": 35,
     "metadata": {},
     "output_type": "execute_result"
    },
    {
     "data": {
      "image/png": "[encoded data removed]",
      "text/plain": [
       "<Figure size 432x288 with 1 Axes>"
      ]
     },
     "metadata": {
      "needs_background": "light"
     },
     "output_type": "display_data"
    }
   ],
   "source": [
    "import matplotlib.pyplot as plt\n",
    "\n",
    "x = ['Accary','Recall', 'Precision', 'f1-score']\n",
    "y1 = [1, 1, 1, 1]\n",
    "y2 = [0.9, 1, 0.76923, 0.86957]\n",
    "y3 = [0.9, 0.625, 1, 0.76923]\n",
    "plt.title('指标')  # 折线图标题\n",
    "plt.rcParams['font.sans-serif'] = ['SimHei']  # 显示汉字\n",
    "plt.xlabel('时间')  # x轴标题\n",
    "plt.ylabel('差值')  # y轴标题\n",
    "plt.plot(x, y1, marker='o', markersize=3)  # 绘制折线图，添加数据点，设置点的大小\n",
    "plt.plot(x, y2, marker='o', markersize=3)\n",
    "plt.plot(x, y3, marker='o', markersize=3)\n",
    "\n",
    "for a, b in zip(x, y1):\n",
    "    plt.text(a, b, b, ha='center', va='bottom', fontsize=10)  # 设置数据标签位置及大小\n",
    "for a, b in zip(x, y2):\n",
    "    plt.text(a, b, b, ha='center', va='bottom', fontsize=10)\n",
    "for a, b in zip(x, y3):\n",
    "    plt.text(a, b, b, ha='center', va='bottom', fontsize=10)\n",
    "\n",
    "plt.legend(['Iris-setosa','Iris-versicolor','Iris-virg'])\n"
   ]
  },
  {
   "cell_type": "code",
   "execution_count": null,
   "id": "269c93b7",
   "metadata": {},
   "outputs": [],
   "source": []
  },
  {
   "cell_type": "code",
   "execution_count": null,
   "id": "4ad564ea",
   "metadata": {},
   "outputs": [],
   "source": []
  },
  {
   "cell_type": "code",
   "execution_count": null,
   "id": "ff945be1",
   "metadata": {},
   "outputs": [],
   "source": []
  },
  {
   "cell_type": "code",
   "execution_count": null,
   "id": "9b4f1f00",
   "metadata": {},
   "outputs": [],
   "source": []
  },
  {
   "cell_type": "code",
   "execution_count": null,
   "id": "424c332c",
   "metadata": {},
   "outputs": [],
   "source": []
  },
  {
   "cell_type": "code",
   "execution_count": null,
   "id": "3a8abb63",
   "metadata": {},
   "outputs": [],
   "source": []
  }
 ],
 "metadata": {
  "kernelspec": {
   "display_name": "Python 3",
   "language": "python",
   "name": "python3"
  },
  "language_info": {
   "codemirror_mode": {
    "name": "ipython",
    "version": 3
   },
   "file_extension": ".py",
   "mimetype": "text/x-python",
   "name": "python",
   "nbconvert_exporter": "python",
   "pygments_lexer": "ipython3",
   "version": "3.8.8"
  }
 },
 "nbformat": 4,
 "nbformat_minor": 5
}
